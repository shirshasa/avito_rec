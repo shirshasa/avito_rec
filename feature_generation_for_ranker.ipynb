{
 "cells": [
  {
   "cell_type": "code",
   "execution_count": 2,
   "id": "23050dee-7a93-463d-868b-5d137bcb5458",
   "metadata": {},
   "outputs": [
    {
     "name": "stdout",
     "output_type": "stream",
     "text": [
      "The autoreload extension is already loaded. To reload it, use:\n",
      "  %reload_ext autoreload\n"
     ]
    }
   ],
   "source": [
    "%load_ext autoreload\n",
    "%autoreload 2"
   ]
  },
  {
   "cell_type": "code",
   "execution_count": 3,
   "id": "8774f47c-4c08-4db7-9415-257643e0588b",
   "metadata": {},
   "outputs": [],
   "source": [
    "\n",
    "import pandas as pd\n",
    "import polars as pl\n",
    "import numpy as np\n",
    "from tqdm import tqdm\n",
    "\n",
    "import os\n",
    "import threadpoolctl\n",
    "import warnings\n",
    "\n",
    "warnings.filterwarnings('ignore')\n",
    "\n",
    "from datetime import timedelta\n",
    "from gc import collect\n",
    "\n",
    "from implicit.als import AlternatingLeastSquares\n",
    "from implicit.nearest_neighbours import CosineRecommender, TFIDFRecommender, BM25Recommender\n",
    "from rectools.dataset import Dataset\n",
    "from rectools.models import (\n",
    "    ImplicitALSWrapperModel,\n",
    "    LightFMWrapperModel,\n",
    "    ImplicitItemKNNWrapperModel,\n",
    ")\n",
    "from lightfm import LightFM\n",
    "import catboost as cb\n",
    "\n",
    "# For vector models optimized ranking\n",
    "os.environ[\"OPENBLAS_NUM_THREADS\"] = \"1\"\n",
    "threadpoolctl.threadpool_limits(1, \"blas\");\n"
   ]
  },
  {
   "cell_type": "code",
   "execution_count": 4,
   "id": "404e4748-3eec-4c89-b053-60cf83694584",
   "metadata": {},
   "outputs": [],
   "source": [
    "import sys\n",
    "\n",
    "sys.path.append('./src')"
   ]
  },
  {
   "cell_type": "code",
   "execution_count": 5,
   "id": "e6f69884-a87d-45fb-81b9-e082be40414c",
   "metadata": {},
   "outputs": [],
   "source": [
    "from data_load import get_train_val, get_cand_ranker, get_clickstream\n",
    "from features import load_text_embeddings_node, load_text_embeddings, \\\n",
    "    load_cat_df, get_user_cat_features, get_user_loc_features, \\\n",
    "    get_node_loc_cat_features, join_features, add_dist_similarity\n",
    "from ranker import SecondStageRanker\n",
    "from tools import recall_at, reduce_memory_usage_pl\n",
    "\n"
   ]
  },
  {
   "cell_type": "code",
   "execution_count": 6,
   "id": "67ba263d-dba5-45b3-a56f-0bc0a9327011",
   "metadata": {},
   "outputs": [
    {
     "name": "stdout",
     "output_type": "stream",
     "text": [
      "Memory usage of dataframe df_test_users is 0.7 MB\n",
      "Memory usage of dataframe df_test_users became 0.35 MB\n",
      "Memory usage of dataframe df_clickstream is 3412.17 MB\n",
      "Memory usage of dataframe df_clickstream became 1509.23 MB\n",
      "Memory usage of dataframe df_cat_features is 6535.28 MB\n",
      "Memory usage of dataframe df_cat_features became 2992.98 MB\n",
      "Memory usage of dataframe df_train is 1490.49 MB\n",
      "Memory usage of dataframe df_train became 1185.86 MB\n",
      "Memory usage of dataframe df_eval is 2.4 MB\n",
      "Memory usage of dataframe df_eval became 2.4 MB\n"
     ]
    }
   ],
   "source": [
    "data_dir = './data/'\n",
    "df_train, df_eval, _ = get_train_val(data_dir = data_dir)\n",
    "df_ranker, df_cand = get_cand_ranker(df_train, cand_days=7)"
   ]
  },
  {
   "cell_type": "code",
   "execution_count": 7,
   "id": "72bfba50-fddb-4f90-83ad-4bfb93b6acf5",
   "metadata": {},
   "outputs": [
    {
     "name": "stdout",
     "output_type": "stream",
     "text": [
      "Memory usage of dataframe df_cat_features is 604.76 MB\n",
      "Memory usage of dataframe df_cat_features became 237.6 MB\n"
     ]
    }
   ],
   "source": [
    "df_cat = load_cat_df(data_dir)"
   ]
  },
  {
   "cell_type": "code",
   "execution_count": 16,
   "id": "25de74a2-c527-48d6-94bf-fde52cf11712",
   "metadata": {},
   "outputs": [],
   "source": [
    "df_event = pl.read_parquet(f'{data_dir}/events.pq')"
   ]
  },
  {
   "cell_type": "code",
   "execution_count": 10,
   "id": "a5bcb8e6-9f2c-4daa-ba76-a73ef0b50731",
   "metadata": {},
   "outputs": [],
   "source": [
    "ranker_users = df_ranker['cookie'].unique().to_list()\n",
    "eval_users = df_eval['cookie'].unique().to_list()\n",
    "\n",
    "\n",
    "df_user_loc = get_user_loc_features(df_cand)\n",
    "df_user_cat = get_user_cat_features(df_cand)\n",
    "df_node = get_node_loc_cat_features(df_cat)\n",
    "\n",
    "# nodes embeddings\n",
    "df_node_emb = load_text_embeddings_node(data_dir)"
   ]
  },
  {
   "cell_type": "code",
   "execution_count": 8,
   "id": "adc5d44b-d4cf-4012-addb-8ee3e72fb3f2",
   "metadata": {},
   "outputs": [],
   "source": [
    "df_train = df_train.with_columns(\n",
    "    pl.col(\"is_contact\").alias(\"is_target\")\n",
    ")"
   ]
  },
  {
   "cell_type": "code",
   "execution_count": 9,
   "id": "44a1e6e1-1ebd-423a-ad9f-dd7e155dae42",
   "metadata": {},
   "outputs": [],
   "source": [
    "ranker_preds1 = pl.read_parquet('./data/candidates/cand/preds_als_features_200.pq')\n",
    "ranker_preds2 = pl.read_parquet('./data/candidates/cand/preds_als_no_feats_200.pq')\n",
    "ranker_preds3 = pl.read_parquet('./data/candidates/cand/preds_lightfm_200.pq')\n",
    "\n",
    "all_preds = pl.concat([ranker_preds1, ], how='vertical')\n",
    "all_preds = all_preds.unique(['cookie', 'node'])\n",
    "all_preds = all_preds.sort(by=['cookie'])"
   ]
  },
  {
   "cell_type": "code",
   "execution_count": 20,
   "id": "9f71f714-8912-4705-a2e9-eaaeadbb8ed6",
   "metadata": {},
   "outputs": [],
   "source": [
    "df_eval = df_eval.join(df_event, on='event', how='left')"
   ]
  },
  {
   "cell_type": "code",
   "execution_count": 22,
   "id": "4318b1d3-31bc-41a4-a729-034f4e2023b6",
   "metadata": {},
   "outputs": [],
   "source": [
    "eval_preds = pl.read_parquet('./data/candidates/train/preds_als_no_feats_200.pq')"
   ]
  },
  {
   "cell_type": "code",
   "execution_count": 26,
   "id": "d1311c94-1507-44b7-8972-8ebfad9c61d3",
   "metadata": {},
   "outputs": [],
   "source": [
    "df_eval = df_eval.with_columns(pl.col(\"is_contact\").alias(\"is_target\"))"
   ]
  },
  {
   "cell_type": "code",
   "execution_count": 30,
   "id": "5def341a-dfe6-4935-881a-2f24ba34e18e",
   "metadata": {},
   "outputs": [],
   "source": [
    "ranker_preds = all_preds\n",
    "\n",
    "# add targets\n",
    "df_targets = df_ranker[['cookie', 'node', 'is_target']].sort(\n",
    "    by = ['is_target'], descending=True\n",
    ").unique(['cookie', 'node' ], keep='first', maintain_order=True)\n",
    "\n",
    "ranker_preds = ranker_preds.join(df_targets, on = ['cookie', 'node'], how = 'left').with_columns(pl.col('is_target').cast(int))\n",
    "ranker_preds = ranker_preds.with_columns(pl.col('is_target').fill_null(0))"
   ]
  },
  {
   "cell_type": "code",
   "execution_count": 31,
   "id": "41156f32-8928-4ae7-943c-964430febe25",
   "metadata": {},
   "outputs": [
    {
     "data": {
      "text/plain": [
       "0.001100686085127844"
      ]
     },
     "execution_count": 31,
     "metadata": {},
     "output_type": "execute_result"
    }
   ],
   "source": [
    "ranker_preds['is_target'].mean()"
   ]
  },
  {
   "cell_type": "code",
   "execution_count": 36,
   "id": "82b7495d-8593-4eeb-8af6-f7e3e025f55f",
   "metadata": {},
   "outputs": [
    {
     "data": {
      "text/html": [
       "<div><style>\n",
       ".dataframe > thead > tr,\n",
       ".dataframe > tbody > tr {\n",
       "  text-align: right;\n",
       "  white-space: pre-wrap;\n",
       "}\n",
       "</style>\n",
       "<small>shape: (21_017_800, 3)</small><table border=\"1\" class=\"dataframe\"><thead><tr><th>cookie</th><th>node</th><th>is_target</th></tr><tr><td>i64</td><td>i64</td><td>i64</td></tr></thead><tbody><tr><td>0</td><td>53194</td><td>0</td></tr><tr><td>0</td><td>214240</td><td>0</td></tr><tr><td>0</td><td>79110</td><td>0</td></tr><tr><td>0</td><td>192797</td><td>0</td></tr><tr><td>0</td><td>115741</td><td>0</td></tr><tr><td>&hellip;</td><td>&hellip;</td><td>&hellip;</td></tr><tr><td>149999</td><td>214294</td><td>0</td></tr><tr><td>149999</td><td>1908</td><td>0</td></tr><tr><td>149999</td><td>336243</td><td>0</td></tr><tr><td>149999</td><td>130602</td><td>0</td></tr><tr><td>149999</td><td>51169</td><td>0</td></tr></tbody></table></div>"
      ],
      "text/plain": [
       "shape: (21_017_800, 3)\n",
       "┌────────┬────────┬───────────┐\n",
       "│ cookie ┆ node   ┆ is_target │\n",
       "│ ---    ┆ ---    ┆ ---       │\n",
       "│ i64    ┆ i64    ┆ i64       │\n",
       "╞════════╪════════╪═══════════╡\n",
       "│ 0      ┆ 53194  ┆ 0         │\n",
       "│ 0      ┆ 214240 ┆ 0         │\n",
       "│ 0      ┆ 79110  ┆ 0         │\n",
       "│ 0      ┆ 192797 ┆ 0         │\n",
       "│ 0      ┆ 115741 ┆ 0         │\n",
       "│ …      ┆ …      ┆ …         │\n",
       "│ 149999 ┆ 214294 ┆ 0         │\n",
       "│ 149999 ┆ 1908   ┆ 0         │\n",
       "│ 149999 ┆ 336243 ┆ 0         │\n",
       "│ 149999 ┆ 130602 ┆ 0         │\n",
       "│ 149999 ┆ 51169  ┆ 0         │\n",
       "└────────┴────────┴───────────┘"
      ]
     },
     "execution_count": 36,
     "metadata": {},
     "output_type": "execute_result"
    }
   ],
   "source": [
    "ranker_preds"
   ]
  },
  {
   "cell_type": "code",
   "execution_count": 32,
   "id": "40253310-dfa0-4557-bf89-63eec4332f6b",
   "metadata": {},
   "outputs": [],
   "source": [
    "# add targets\n",
    "df_targets = df_eval[['cookie', 'node', 'is_target']].sort(\n",
    "    by = ['is_target'], descending=True\n",
    ").unique(['cookie', 'node' ], keep='first', maintain_order=True)\n",
    "\n",
    "eval_preds = eval_preds.join(df_targets, on = ['cookie', 'node'], how = 'left').with_columns(pl.col('is_target').cast(int))\n",
    "eval_preds = eval_preds.with_columns(pl.col('is_target').fill_null(0))"
   ]
  },
  {
   "cell_type": "code",
   "execution_count": 33,
   "id": "a7426b9b-ad89-4097-ab87-54ec8f2a03ce",
   "metadata": {},
   "outputs": [
    {
     "data": {
      "text/plain": [
       "0.00433325466131697"
      ]
     },
     "execution_count": 33,
     "metadata": {},
     "output_type": "execute_result"
    }
   ],
   "source": [
    "eval_preds['is_target'].mean()"
   ]
  },
  {
   "cell_type": "code",
   "execution_count": 35,
   "id": "9ab6dc33-5ab2-43b0-a8db-ec55ccf6b490",
   "metadata": {},
   "outputs": [
    {
     "data": {
      "text/html": [
       "<div><style>\n",
       ".dataframe > thead > tr,\n",
       ".dataframe > tbody > tr {\n",
       "  text-align: right;\n",
       "  white-space: pre-wrap;\n",
       "}\n",
       "</style>\n",
       "<small>shape: (11_016_200, 4)</small><table border=\"1\" class=\"dataframe\"><thead><tr><th>cookie</th><th>node</th><th>is_target</th><th>is_target_right</th></tr><tr><td>i64</td><td>i64</td><td>i64</td><td>i64</td></tr></thead><tbody><tr><td>0</td><td>115834</td><td>0</td><td>null</td></tr><tr><td>0</td><td>214234</td><td>0</td><td>null</td></tr><tr><td>0</td><td>214235</td><td>0</td><td>null</td></tr><tr><td>0</td><td>115713</td><td>0</td><td>null</td></tr><tr><td>0</td><td>115704</td><td>0</td><td>null</td></tr><tr><td>&hellip;</td><td>&hellip;</td><td>&hellip;</td><td>&hellip;</td></tr><tr><td>149998</td><td>153018</td><td>0</td><td>null</td></tr><tr><td>149998</td><td>229316</td><td>0</td><td>null</td></tr><tr><td>149998</td><td>152684</td><td>0</td><td>null</td></tr><tr><td>149998</td><td>334913</td><td>0</td><td>null</td></tr><tr><td>149998</td><td>146966</td><td>0</td><td>null</td></tr></tbody></table></div>"
      ],
      "text/plain": [
       "shape: (11_016_200, 4)\n",
       "┌────────┬────────┬───────────┬─────────────────┐\n",
       "│ cookie ┆ node   ┆ is_target ┆ is_target_right │\n",
       "│ ---    ┆ ---    ┆ ---       ┆ ---             │\n",
       "│ i64    ┆ i64    ┆ i64       ┆ i64             │\n",
       "╞════════╪════════╪═══════════╪═════════════════╡\n",
       "│ 0      ┆ 115834 ┆ 0         ┆ null            │\n",
       "│ 0      ┆ 214234 ┆ 0         ┆ null            │\n",
       "│ 0      ┆ 214235 ┆ 0         ┆ null            │\n",
       "│ 0      ┆ 115713 ┆ 0         ┆ null            │\n",
       "│ 0      ┆ 115704 ┆ 0         ┆ null            │\n",
       "│ …      ┆ …      ┆ …         ┆ …               │\n",
       "│ 149998 ┆ 153018 ┆ 0         ┆ null            │\n",
       "│ 149998 ┆ 229316 ┆ 0         ┆ null            │\n",
       "│ 149998 ┆ 152684 ┆ 0         ┆ null            │\n",
       "│ 149998 ┆ 334913 ┆ 0         ┆ null            │\n",
       "│ 149998 ┆ 146966 ┆ 0         ┆ null            │\n",
       "└────────┴────────┴───────────┴─────────────────┘"
      ]
     },
     "execution_count": 35,
     "metadata": {},
     "output_type": "execute_result"
    }
   ],
   "source": [
    "eval_preds.filter(pl.col(\"is_target\").over(\"cookie\").sum()> 0 )"
   ]
  },
  {
   "cell_type": "code",
   "execution_count": 10,
   "id": "23da264b-7be2-45d6-85cc-502217f79e0a",
   "metadata": {},
   "outputs": [],
   "source": [
    "from consts import nodes, feats, cat"
   ]
  },
  {
   "cell_type": "code",
   "execution_count": 14,
   "id": "2f76b237-09e3-4dda-abd2-45d9753f993a",
   "metadata": {},
   "outputs": [
    {
     "name": "stdout",
     "output_type": "stream",
     "text": [
      "Adding cosine similarity for node_last_contact_CAT\n",
      "Adding cosine similarity for most_freq_node_contact_CAT\n",
      "Adding cosine similarity for node_last_contact_LOC\n",
      "Adding cosine similarity for most_freq_node_contact_LOC\n"
     ]
    }
   ],
   "source": [
    "# prepare data for catboost\n",
    "ranker_preds = join_features(ranker_preds, df_node, df_user_cat, df_user_loc)\n",
    "ranker_preds = ranker_preds.with_columns([pl.col(c).fill_null(-1).cast(int) for c in cat])\n",
    "\n",
    "\n",
    "# add nodes distances from embeddings\n",
    "ranker_preds  = add_dist_similarity(ranker_preds, df_node_emb, nodes)\n"
   ]
  },
  {
   "cell_type": "code",
   "execution_count": 16,
   "id": "c189b48a-b9b2-43f9-9ad2-04d12269384f",
   "metadata": {},
   "outputs": [],
   "source": [
    "cat = [\n",
    " 'node_category',\n",
    " 'most_freq_surface_CAT',\n",
    " 'most_freq_event_CAT',\n",
    " 'most_freq_event_contact_CAT',\n",
    "]"
   ]
  },
  {
   "cell_type": "code",
   "execution_count": 20,
   "id": "73ee18fc-4e9a-44a8-80b7-a823e82bc4be",
   "metadata": {},
   "outputs": [
    {
     "name": "stdout",
     "output_type": "stream",
     "text": [
      "train: 63055, eval: 21017, test: 21017\n",
      "train: (23887689, 24), eval: (7963452, 24), test: (7967978, 24)\n"
     ]
    }
   ],
   "source": [
    "ranker = SecondStageRanker(df=ranker_preds)\n",
    "ranker.split_data(features=feats, cat_features=cat, eval_ratio=0.2)"
   ]
  },
  {
   "cell_type": "code",
   "execution_count": 22,
   "id": "0e3b6354-c667-47a1-9789-2df811de93b0",
   "metadata": {},
   "outputs": [],
   "source": [
    "del df_train , df_eval, df_ranker, df_cand"
   ]
  },
  {
   "cell_type": "code",
   "execution_count": 25,
   "id": "2d5e0baf-49af-4a54-8627-7ab8564e0015",
   "metadata": {},
   "outputs": [],
   "source": [
    "del df_cat, df_node, df_user_loc"
   ]
  },
  {
   "cell_type": "code",
   "execution_count": 26,
   "id": "41ac0d9d-93c7-4192-a8d8-30013d96f536",
   "metadata": {},
   "outputs": [
    {
     "data": {
      "text/plain": [
       "0"
      ]
     },
     "execution_count": 26,
     "metadata": {},
     "output_type": "execute_result"
    }
   ],
   "source": [
    "collect()"
   ]
  },
  {
   "cell_type": "code",
   "execution_count": null,
   "id": "4498bc00-9bf4-432f-bf27-131e71eb1249",
   "metadata": {},
   "outputs": [
    {
     "name": "stdout",
     "output_type": "stream",
     "text": [
      "Pairwise scoring loss functions on CPU do not support one hot features. OneHotMaxSize set to 1\n",
      "0:\tlearn: 0.8408320\ttest: 0.8380029\tbest: 0.8380029 (0)\ttotal: 35.9s\tremaining: 2h 29m 4s\n"
     ]
    }
   ],
   "source": [
    "params = {\n",
    "    \"boosting_type\": \"Plain\",\n",
    "    \"early_stopping_rounds\": 10,\n",
    "    \"eval_metric\": \"RecallAt:top=40\",\n",
    "    # \"learning_rate\": 0.1,\n",
    "    \"max_ctr_complexity\": 1,\n",
    "    \"nan_mode\": \"Min\",\n",
    "    \"num_trees\": 250,\n",
    "    \"objective\": \"PairLogitPairwise:max_pairs=50\",\n",
    "    \"random_state\": 42,\n",
    "    \"task_type\": \"CPU\",\n",
    "    \"thread_count\": 16,\n",
    "}\n",
    "\n",
    "model = cb.CatBoost(params = params)\n",
    "ranker.model = model\n",
    "ranker.model.fit(X= ranker.train_pool, verbose=10, eval_set=ranker.eval_pool)"
   ]
  },
  {
   "cell_type": "code",
   "execution_count": 178,
   "id": "478ff204-c678-4911-ab1c-7d0d30ed2ac8",
   "metadata": {},
   "outputs": [
    {
     "data": {
      "text/plain": [
       "{'AUC': [0.7148534978094978],\n",
       " 'Accuracy': [0.4608474495622383],\n",
       " 'PrecisionAt:top=40': [0.002162637990102777],\n",
       " 'RecallAt:top=40': [0.9108772349969533]}"
      ]
     },
     "execution_count": 178,
     "metadata": {},
     "output_type": "execute_result"
    }
   ],
   "source": [
    "ranker.model.eval_metrics(\n",
    "    ranker.test_pool,\n",
    "    metrics=[\"AUC\", \"Accuracy\", \"PrecisionAt:top=40\", \"RecallAt:top=40\"],ntree_start=ranker.model.tree_count_ -1\n",
    ")"
   ]
  },
  {
   "cell_type": "code",
   "execution_count": 180,
   "id": "71c3eb44-7464-4582-997d-b683e7b35888",
   "metadata": {},
   "outputs": [
    {
     "name": "stdout",
     "output_type": "stream",
     "text": [
      "Model saved as catboost_ranker_model.cbm\n",
      "Ranker saved to models/catboost_0_91_emb.\n"
     ]
    }
   ],
   "source": [
    "ranker.save(\"models/catboost_0_91_emb_3sets\")"
   ]
  },
  {
   "cell_type": "markdown",
   "id": "9abee7a7-1577-4cbd-8ae1-f36107b579f0",
   "metadata": {},
   "source": [
    "### More features.."
   ]
  },
  {
   "cell_type": "code",
   "execution_count": 16,
   "id": "5dea73a5-af5a-432c-bbed-d863dec9b3d6",
   "metadata": {},
   "outputs": [],
   "source": [
    "from features import get_user_features, get_node_features\n",
    "from feature_pool import FeaturePool"
   ]
  },
  {
   "cell_type": "code",
   "execution_count": null,
   "id": "cd25350e-44dd-4a4c-bb0f-d2d76d2c34a4",
   "metadata": {},
   "outputs": [],
   "source": [
    "# df_user = get_user_features(df_train)\n",
    "# df_node = get_node_features(df_train, df_cat)\n",
    "\n",
    "df_user_ranker = get_user_features(df_cand)\n",
    "df_node_ranker = get_node_features(df_cand, df_cat)\n",
    "\n",
    "user_pool = FeaturePool(key='cookie')\n",
    "user_pool.add_features(df_user_ranker, feature_set='simple')\n",
    "\n",
    "item_pool = FeaturePool(key='node')\n",
    "item_pool.add_features(df_node_ranker, feature_set='simple')\n",
    "\n",
    "user_params = dict(\n",
    "    add_categorical=0, add_numerical=0, add_ratios=1, add_embeddings=0, \n",
    "    filter_by_name=('node',),\n",
    "    # add_by_name = ('category_last_contact', 'most_freq_category') # most_freq_category\n",
    ")\n",
    "item_params = dict(\n",
    "    add_categorical=1, add_numerical=0, add_ratios=1, add_embeddings=0, \n",
    "    filter_by_name=('surface', 'location', 'event')\n",
    ")\n",
    "user_df = user_pool.get_features(**user_params)\n",
    "node_df = item_pool.get_features(**item_params)"
   ]
  },
  {
   "cell_type": "code",
   "execution_count": 23,
   "id": "a77e04e7-9352-432d-a5b5-c913b8399ca9",
   "metadata": {},
   "outputs": [
    {
     "data": {
      "text/html": [
       "<div><style>\n",
       ".dataframe > thead > tr,\n",
       ".dataframe > tbody > tr {\n",
       "  text-align: right;\n",
       "  white-space: pre-wrap;\n",
       "}\n",
       "</style>\n",
       "<small>shape: (351_530, 3)</small><table border=\"1\" class=\"dataframe\"><thead><tr><th>node</th><th>ctr</th><th>category</th></tr><tr><td>u32</td><td>f32</td><td>i8</td></tr></thead><tbody><tr><td>311972</td><td>0.0</td><td>35</td></tr><tr><td>183127</td><td>0.0</td><td>32</td></tr><tr><td>337663</td><td>0.107143</td><td>51</td></tr><tr><td>251021</td><td>0.0</td><td>51</td></tr><tr><td>11412</td><td>0.0</td><td>28</td></tr><tr><td>&hellip;</td><td>&hellip;</td><td>&hellip;</td></tr><tr><td>405423</td><td>0.0</td><td>51</td></tr><tr><td>395595</td><td>0.0</td><td>51</td></tr><tr><td>394279</td><td>0.0</td><td>51</td></tr><tr><td>117305</td><td>0.0</td><td>19</td></tr><tr><td>71428</td><td>0.0</td><td>49</td></tr></tbody></table></div>"
      ],
      "text/plain": [
       "shape: (351_530, 3)\n",
       "┌────────┬──────────┬──────────┐\n",
       "│ node   ┆ ctr      ┆ category │\n",
       "│ ---    ┆ ---      ┆ ---      │\n",
       "│ u32    ┆ f32      ┆ i8       │\n",
       "╞════════╪══════════╪══════════╡\n",
       "│ 311972 ┆ 0.0      ┆ 35       │\n",
       "│ 183127 ┆ 0.0      ┆ 32       │\n",
       "│ 337663 ┆ 0.107143 ┆ 51       │\n",
       "│ 251021 ┆ 0.0      ┆ 51       │\n",
       "│ 11412  ┆ 0.0      ┆ 28       │\n",
       "│ …      ┆ …        ┆ …        │\n",
       "│ 405423 ┆ 0.0      ┆ 51       │\n",
       "│ 395595 ┆ 0.0      ┆ 51       │\n",
       "│ 394279 ┆ 0.0      ┆ 51       │\n",
       "│ 117305 ┆ 0.0      ┆ 19       │\n",
       "│ 71428  ┆ 0.0      ┆ 49       │\n",
       "└────────┴──────────┴──────────┘"
      ]
     },
     "execution_count": 23,
     "metadata": {},
     "output_type": "execute_result"
    }
   ],
   "source": [
    "item_pool.get_features(**item_params)"
   ]
  }
 ],
 "metadata": {
  "kernelspec": {
   "display_name": "Python 3 (ipykernel)",
   "language": "python",
   "name": "python3"
  },
  "language_info": {
   "codemirror_mode": {
    "name": "ipython",
    "version": 3
   },
   "file_extension": ".py",
   "mimetype": "text/x-python",
   "name": "python",
   "nbconvert_exporter": "python",
   "pygments_lexer": "ipython3",
   "version": "3.13.2"
  }
 },
 "nbformat": 4,
 "nbformat_minor": 5
}
