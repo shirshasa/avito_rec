{
 "cells": [
  {
   "cell_type": "markdown",
   "id": "21e14b3b-d9be-4f1e-b277-9ab7f65c5a71",
   "metadata": {},
   "source": [
    "# Load Data"
   ]
  },
  {
   "cell_type": "code",
   "execution_count": 1,
   "id": "bc2ca289-b8c0-4083-971e-249799bdfbac",
   "metadata": {},
   "outputs": [
    {
     "name": "stdout",
     "output_type": "stream",
     "text": [
      "zsh:1: no matches found: rectools[all]\n"
     ]
    }
   ],
   "source": [
    "!pip install rectools[all] -q"
   ]
  },
  {
   "cell_type": "code",
   "execution_count": 1,
   "id": "f9f92c11-baa9-4d93-b895-d191cbef3e31",
   "metadata": {},
   "outputs": [],
   "source": [
    "%load_ext autoreload\n",
    "%autoreload 2"
   ]
  },
  {
   "cell_type": "code",
   "execution_count": 2,
   "id": "0fd7da79-5e1d-4330-8379-3b8beb16acd0",
   "metadata": {},
   "outputs": [],
   "source": [
    "# !pip install polars==1.25.2 >> _\n"
   ]
  },
  {
   "cell_type": "code",
   "execution_count": 3,
   "id": "fd0d9f09-3572-4ed8-9db6-0f1d92625c8d",
   "metadata": {
    "scrolled": true
   },
   "outputs": [],
   "source": [
    "# !pip install implicit >> _"
   ]
  },
  {
   "cell_type": "code",
   "execution_count": 5,
   "id": "d11cf29c-80bb-48dd-9a5a-7a7fee340a97",
   "metadata": {},
   "outputs": [],
   "source": [
    "# # takes 5 minutes\n",
    "# !wget https://storage.yandexcloud.net/ds-ods/files/data/docs/competitions/Avitotechcomp2025/data_competition_1/clickstream.pq -O data/clickstream.pq >> _\n",
    "# !wget https://storage.yandexcloud.net/ds-ods/files/data/docs/competitions/Avitotechcomp2025/data_competition_1/test_users.pq -O data/test_users.pq >> _\n",
    "# !wget https://storage.yandexcloud.net/ds-ods/files/data/docs/competitions/Avitotechcomp2025/data_competition_1/cat_features.pq -O data/cat_features.pq >> _\n",
    "# !wget https://storage.yandexcloud.net/ds-ods/files/data/docs/competitions/Avitotechcomp2025/data_competition_1/text_features.pq -O data/text_features.pq >> _\n",
    "# !wget https://storage.yandexcloud.net/ds-ods/files/data/docs/competitions/Avitotechcomp2025/data_competition_1/events.pq -O data/events.pq >> _\n"
   ]
  },
  {
   "cell_type": "code",
   "execution_count": 1,
   "id": "7a1164ec-f32d-4d8c-9349-e07193347639",
   "metadata": {},
   "outputs": [],
   "source": [
    "from datetime import timedelta\n",
    "import polars as pl\n",
    "import implicit"
   ]
  },
  {
   "cell_type": "code",
   "execution_count": 7,
   "id": "11dc4c75-27b3-4cbb-a68f-98d3e7177ddd",
   "metadata": {},
   "outputs": [],
   "source": [
    "DATA_DIR = 'data/'\n",
    "\n",
    "df_test_users = pl.scan_parquet(f'{DATA_DIR}/test_users.pq')\n",
    "df_clickstream = pl.read_parquet(f'{DATA_DIR}/clickstream.pq')\n",
    "\n",
    "df_cat_features = pl.read_parquet(f'{DATA_DIR}/cat_features.pq')\n",
    "df_text_features = pl.read_parquet(f'{DATA_DIR}/text_features.pq')\n",
    "df_event = pl.read_parquet(f'{DATA_DIR}/events.pq')"
   ]
  },
  {
   "cell_type": "markdown",
   "id": "f821debd-2a22-41c3-9156-f85b3684bec6",
   "metadata": {},
   "source": [
    "# PREPARE TRAIN EVAL"
   ]
  },
  {
   "cell_type": "code",
   "execution_count": null,
   "id": "3980d8f0-e8f6-4434-99bc-aefc366ed75d",
   "metadata": {},
   "outputs": [],
   "source": [
    "EVAL_DAYS_TRESHOLD = 14\n",
    "\n",
    "treshhold = df_clickstream['event_date'].max() - timedelta(days=EVAL_DAYS_TRESHOLD)"
   ]
  },
  {
   "cell_type": "code",
   "execution_count": 10,
   "id": "cabb9561-abf4-4e34-ab3b-9d7391188b92",
   "metadata": {},
   "outputs": [],
   "source": [
    "df_train = df_clickstream.filter(df_clickstream['event_date']<= treshhold)\n",
    "df_eval = df_clickstream.filter(df_clickstream['event_date']> treshhold)[['cookie', 'node', 'event']]"
   ]
  },
  {
   "cell_type": "code",
   "execution_count": 11,
   "id": "8484fcfb-47c7-4b3d-885b-2a691ed1e49f",
   "metadata": {},
   "outputs": [],
   "source": [
    "df_eval = df_eval.join(df_train, on=['cookie', 'node'], how='anti')\n"
   ]
  },
  {
   "cell_type": "code",
   "execution_count": 12,
   "id": "d2995b20-2896-4fb5-8f71-3e7a01ca3d8b",
   "metadata": {},
   "outputs": [],
   "source": [
    "df_eval = df_eval.filter(\n",
    "    pl.col('event').is_in(\n",
    "        df_event.filter(pl.col('is_contact')==1)['event'].unique()\n",
    "    )\n",
    ")"
   ]
  },
  {
   "cell_type": "code",
   "execution_count": 13,
   "id": "03053625-f774-4a3f-b093-0328aeb18e87",
   "metadata": {},
   "outputs": [],
   "source": [
    "df_eval = df_eval.filter(\n",
    "        pl.col('cookie').is_in(df_train['cookie'].unique())\n",
    "    ).filter(\n",
    "        pl.col('node').is_in(df_train['node'].unique())\n",
    "    )"
   ]
  },
  {
   "cell_type": "code",
   "execution_count": 14,
   "id": "1e938184-194e-469d-be17-043b0c0ad5ed",
   "metadata": {},
   "outputs": [],
   "source": [
    "df_eval = df_eval.unique(['cookie', 'node'])"
   ]
  },
  {
   "cell_type": "markdown",
   "id": "a7610069-bd37-4231-9285-8a8598339376",
   "metadata": {},
   "source": [
    "# TRAIN MODEL"
   ]
  },
  {
   "cell_type": "markdown",
   "id": "7db32b36-9ec3-47ed-bbc1-0b395c350cf7",
   "metadata": {},
   "source": [
    "## ALS"
   ]
  },
  {
   "cell_type": "code",
   "execution_count": 15,
   "id": "118b73e6-c306-4ab8-8ae5-3f133a95cda5",
   "metadata": {},
   "outputs": [],
   "source": [
    "def get_als_pred(users, nodes, user_to_pred):\n",
    "    user_ids = users.unique().to_list()\n",
    "    item_ids = nodes.unique().to_list()\n",
    "        \n",
    "    user_id_to_index = {user_id: idx for idx, user_id in enumerate(user_ids)}\n",
    "    item_id_to_index = {item_id: idx for idx, item_id in enumerate(item_ids)}\n",
    "    index_to_item_id = {v:k for k,v in item_id_to_index.items()}\n",
    "    \n",
    "    rows = users.replace_strict(user_id_to_index).to_list()\n",
    "    cols = nodes.replace_strict(item_id_to_index).to_list()\n",
    "    \n",
    "    values = [1] * len(users)\n",
    "    \n",
    "    sparse_matrix = csr_matrix((values, (rows, cols)), shape=(len(user_ids), len(item_ids)))\n",
    "    \n",
    "    model = implicit.als.AlternatingLeastSquares(iterations=10, factors=60)\n",
    "    model.fit(sparse_matrix, )\n",
    "    \n",
    "    \n",
    "    user4pred = np.array([user_id_to_index[i] for i in user_to_pred])\n",
    "    \n",
    "    recommendations, scores = model.recommend(user4pred, sparse_matrix[user4pred], N=40, filter_already_liked_items=True)\n",
    "    \n",
    "    df_pred = pl.DataFrame(\n",
    "        {\n",
    "            'node': [\n",
    "                [index_to_item_id[i] for i in i] for i in recommendations.tolist()\n",
    "            ], \n",
    "             'cookie': list(user_to_pred),\n",
    "            'scores': scores.tolist()\n",
    "            \n",
    "        }\n",
    "    )\n",
    "    df_pred = df_pred.explode(['node', 'scores'])\n",
    "    return df_pred"
   ]
  },
  {
   "cell_type": "code",
   "execution_count": 16,
   "id": "7ec48ba7-af95-49a4-a8e3-f9d24e9a5b2d",
   "metadata": {},
   "outputs": [
    {
     "name": "stderr",
     "output_type": "stream",
     "text": [
      "/Users/admastryukov/miniconda3/lib/python3.12/site-packages/implicit/cpu/als.py:95: RuntimeWarning: OpenBLAS is configured to use 10 threads. It is highly recommended to disable its internal threadpool by setting the environment variable 'OPENBLAS_NUM_THREADS=1' or by calling 'threadpoolctl.threadpool_limits(1, \"blas\")'. Having OpenBLAS use a threadpool can lead to severe performance issues here.\n",
      "  check_blas_config()\n"
     ]
    },
    {
     "data": {
      "application/vnd.jupyter.widget-view+json": {
       "model_id": "16eaeef5060d49a08c69770237c9a4ca",
       "version_major": 2,
       "version_minor": 0
      },
      "text/plain": [
       "  0%|          | 0/10 [00:00<?, ?it/s]"
      ]
     },
     "metadata": {},
     "output_type": "display_data"
    }
   ],
   "source": [
    "from scipy.sparse import csr_matrix\n",
    "import numpy as np\n",
    "import implicit\n",
    "\n",
    "\n",
    "users = df_train[\"cookie\"]\n",
    "nodes = df_train[\"node\"]\n",
    "eval_users = df_eval['cookie'].unique().to_list()\n",
    "\n",
    "df_pred = get_als_pred(users, nodes,eval_users )\n",
    "\n",
    "\n"
   ]
  },
  {
   "cell_type": "markdown",
   "id": "9192c125-ed26-4f28-8433-1b4b6c00776b",
   "metadata": {},
   "source": [
    "## popular"
   ]
  },
  {
   "cell_type": "code",
   "execution_count": 17,
   "id": "63e63c59-d03c-448e-927b-52e0b369fed0",
   "metadata": {},
   "outputs": [],
   "source": [
    "def get_popular(df):\n",
    "    popukar_node = df.group_by('node').agg(pl.col('cookie').count()).sort('cookie').tail(40)['node'].to_list()\n",
    "    df_pred_pop = pl.DataFrame({'node': [popukar_node for i in range(len(eval_users))], 'cookie': eval_users})\n",
    "    df_pred_pop = df_pred_pop.explode('node')\n",
    "    return df_pred_pop\n",
    "\n",
    "train_pop = get_popular(df_train)\n"
   ]
  },
  {
   "cell_type": "markdown",
   "id": "20e5d1dd-9eb8-4e46-8c87-b70ab3e50edb",
   "metadata": {},
   "source": [
    "# CALC EVAL METRICS"
   ]
  },
  {
   "cell_type": "code",
   "execution_count": 18,
   "id": "f67325eb-6ce3-41f2-b61b-4dfdd9bcab26",
   "metadata": {},
   "outputs": [],
   "source": [
    "def recall_at(df_true, df_pred, k=40):\n",
    "    return  df_true[['node', 'cookie']].join(\n",
    "        df_pred.group_by('cookie').head(k).with_columns(value=1)[['node', 'cookie', 'value']], \n",
    "        how='left',\n",
    "        on = ['cookie', 'node']\n",
    "    ).select(\n",
    "        [pl.col('value').fill_null(0), 'cookie']\n",
    "    ).group_by(\n",
    "        'cookie'\n",
    "    ).agg(\n",
    "        [\n",
    "            pl.col('value').sum()/pl.col(\n",
    "                'value'\n",
    "            ).count()\n",
    "        ]\n",
    "    )['value'].mean()\n"
   ]
  },
  {
   "cell_type": "code",
   "execution_count": 19,
   "id": "3fdab6aa-249c-4621-ad7e-c97467837b65",
   "metadata": {},
   "outputs": [
    {
     "data": {
      "text/plain": [
       "0.15041722015925818"
      ]
     },
     "execution_count": 19,
     "metadata": {},
     "output_type": "execute_result"
    }
   ],
   "source": [
    "recall_at(df_eval, df_pred, k=40)"
   ]
  },
  {
   "cell_type": "code",
   "execution_count": 20,
   "id": "bc5259d1-8644-4736-881e-b68c7758c1ab",
   "metadata": {},
   "outputs": [
    {
     "data": {
      "text/plain": [
       "0.05806730855297021"
      ]
     },
     "execution_count": 20,
     "metadata": {},
     "output_type": "execute_result"
    }
   ],
   "source": [
    "recall_at(df_eval, train_pop, k=40)"
   ]
  },
  {
   "cell_type": "markdown",
   "id": "1c046830-fdf3-42a0-9776-657cce44c947",
   "metadata": {},
   "source": [
    "# SUMBIT"
   ]
  },
  {
   "cell_type": "code",
   "execution_count": 21,
   "id": "f04ffa5b-d541-4390-ac57-7b567cc99cc9",
   "metadata": {},
   "outputs": [
    {
     "data": {
      "application/vnd.jupyter.widget-view+json": {
       "model_id": "500c8d02c80c48059aee05e8516cccc0",
       "version_major": 2,
       "version_minor": 0
      },
      "text/plain": [
       "  0%|          | 0/10 [00:00<?, ?it/s]"
      ]
     },
     "metadata": {},
     "output_type": "display_data"
    }
   ],
   "source": [
    "users = df_clickstream[\"cookie\"]\n",
    "nodes = df_clickstream[\"node\"]\n",
    "test_users = df_test_users['cookie'].unique().to_list()\n",
    "\n",
    "df_pred = get_als_pred(users, nodes, test_users )\n"
   ]
  },
  {
   "cell_type": "code",
   "execution_count": 22,
   "id": "f1ded7e4-574a-4df7-b1ab-1942e510d141",
   "metadata": {},
   "outputs": [],
   "source": [
    "df_pred.write_csv('prediction.csv')"
   ]
  }
 ],
 "metadata": {
  "kernelspec": {
   "display_name": "Python 3 (ipykernel)",
   "language": "python",
   "name": "python3"
  },
  "language_info": {
   "codemirror_mode": {
    "name": "ipython",
    "version": 3
   },
   "file_extension": ".py",
   "mimetype": "text/x-python",
   "name": "python",
   "nbconvert_exporter": "python",
   "pygments_lexer": "ipython3",
   "version": "3.9.18"
  }
 },
 "nbformat": 4,
 "nbformat_minor": 5
}
